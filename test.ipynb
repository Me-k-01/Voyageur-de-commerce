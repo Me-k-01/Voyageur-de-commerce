{
 "cells": [
  {
   "cell_type": "code",
   "execution_count": null,
   "metadata": {},
   "outputs": [],
   "source": [
    "from algo_gen import algo_genetique\n",
    "from algo_four import algo_fourmis\n",
    "import numpy as np\n",
    "from random import randint\n",
    "from time import time\n",
    "import matplotlib.pyplot as plt\n",
    "from IPython import display"
   ]
  },
  {
   "cell_type": "code",
   "execution_count": null,
   "metadata": {},
   "outputs": [],
   "source": [
    "# Chargement de la matrice adjacence à partir d'un fichier\n",
    "def load_matrix():\n",
    "    mat = []\n",
    "    with open('mat_adjacence', 'r') as file:   \n",
    "        for l in file.readlines():  \n",
    "            val = [int(x) for x in l.split()]\n",
    "            mat.append(val)            \n",
    "    return mat\n",
    "\n",
    "# Créer une matrice d'adjacence dont le cout du circuit Hamiltonien optimal est celui de la périphérie  \n",
    "def create_matrix(n_ville):\n",
    "    mat = np.zeros((n_ville, n_ville))\n",
    "    \n",
    "    for i in range(n_ville):\n",
    "        for j in range(i, n_ville):\n",
    "            cout = randint(2, 10)\n",
    "            if i == j:\n",
    "                cout = 0\n",
    "            i_after = i+1 if i+1 < n_ville else 0\n",
    "            if i_after == j:\n",
    "                cout = 1\n",
    "                 \n",
    "            mat[i][j] = cout\n",
    "            mat[j][i] = cout\n",
    "    mat[n_ville-1][0] = 1\n",
    "    mat[0][n_ville-1] = 1\n",
    "\n",
    "    return mat\n",
    " "
   ]
  },
  {
   "cell_type": "code",
   "execution_count": null,
   "metadata": {},
   "outputs": [],
   "source": [
    "algo_fourmis(create_matrix(7), verbal=True)"
   ]
  },
  {
   "cell_type": "code",
   "execution_count": null,
   "metadata": {},
   "outputs": [],
   "source": [
    "algo_genetique(create_matrix(7), time_max=100, verbal=True)"
   ]
  },
  {
   "cell_type": "code",
   "execution_count": null,
   "metadata": {},
   "outputs": [],
   "source": [
    "def test_acc(algo, mat_size = 5, n_try=1, time_max=100): \n",
    "    \"\"\"\n",
    "    Test l'algorithme d'exploration avec des matrice dont le chemin au cout optimal correspond à la périphérie, et retourne l'accuracy moyen\n",
    "        mat_size : taille de la matrice d'adjacence qui sera exploré\n",
    "        n_try : Nombre de test effectué\n",
    "    \"\"\"\n",
    "    acc = 0 \n",
    "    # On test plusieurs fois et on obtient\n",
    "    for _ in range(n_try):\n",
    "        cost_mat = create_matrix(mat_size)\n",
    "        # Accuracy = meilleur chemin / chemin trouvé par l'algo \n",
    "        acc += mat_size / algo(cost_mat, time_max=time_max, verbal=False)[1] # en sachant que par construction: Taille optimal = taille de matrice    \n",
    "        \n",
    "    return acc / n_try"
   ]
  },
  {
   "cell_type": "code",
   "execution_count": null,
   "metadata": {},
   "outputs": [],
   "source": [
    "def main_test(algorithmes, n_city_start = 4, n_city_end = 10): \n",
    "    \"\"\"\n",
    "    Effectue des tests sur une liste d'algorithme, et affiche sous la forme de diagrame l'évolution des tests (avec precision et temps d'execution)\n",
    "    algorithmes : Liste des fonctions avec comme paramètre la matrice de coût et le temps optimal\n",
    "        Chacune de ses fonctions doivent retourné le chemins optimal et le coût sous la forme d'un tuple.\n",
    "    \"\"\"\n",
    "    \n",
    "    accuracies = [[] for _ in algorithmes]\n",
    "    times = [[] for _ in algorithmes]  \n",
    "    mat_sizes = [[] for _ in algorithmes]\n",
    "     \n",
    "     \n",
    "    for size in range(n_city_start, n_city_end, 1): \n",
    "        for i, algo in enumerate(algorithmes):\n",
    "            start_time = time()\n",
    "            accuracies[i].append(test_acc(algo=algo, mat_size=size, n_try=100, time_max=50))\n",
    "            times[i].append(time()-start_time) \n",
    "            \n",
    "        fig, ax = plt.subplots(len(algorithmes))\n",
    "        if len(algorithmes) == 1:\n",
    "            ax = np.array([ax]) \n",
    "        \n",
    "        for i in range(len(algorithmes)):\n",
    "            mat_sizes[i].append(size)\n",
    "            # Précision\n",
    "            ax[i].plot(mat_sizes[i], accuracies[i], \"-bo\")\n",
    "            ax[i].set_title(\"test \" + algorithmes[i].__name__) \n",
    "            ax[i].set_xlabel(\"Nombre de ville\")\n",
    "            ax[i].set_ylabel(\"Précision\") \n",
    "            ax[i].set_ylim(0, 1.1)\n",
    "            \n",
    "            # Coloration left\n",
    "            ax[i].spines[\"left\"].set_color('blue') \n",
    "            ax[i].yaxis.label.set_color('blue') \n",
    "            ax[i].tick_params(axis='y', colors='blue') \n",
    "            \n",
    "            # Temps d'execution\n",
    "            ax2 = ax[i].twinx()\n",
    "            ax2.plot(mat_sizes[i], times[0], \"-ro\") \n",
    "            ax2.set_xlabel(\"Nombre de ville\")\n",
    "            ax2.set_ylabel(\"Temps d'execution (en ms)\") \n",
    "            \n",
    "            # Coloration right\n",
    "            ax2.yaxis.label.set_color('red') \n",
    "            ax2.tick_params(axis='y', colors='red')\n",
    "            ax2.spines[\"right\"].set_color('red')\n",
    "        \n",
    "        fig.tight_layout()\n",
    "        display.clear_output(wait=True) \n",
    "        plt.show() \n",
    "        \n",
    "        \n",
    "        #plt.show()\n",
    "        #display.display(plt.gcf())\n",
    "main_test([algo_genetique, algo_fourmis])"
   ]
  },
  {
   "cell_type": "code",
   "execution_count": null,
   "metadata": {},
   "outputs": [],
   "source": []
  },
  {
   "cell_type": "code",
   "execution_count": null,
   "metadata": {},
   "outputs": [],
   "source": []
  }
 ],
 "metadata": {
  "kernelspec": {
   "display_name": "Python 3",
   "language": "python",
   "name": "python3"
  },
  "language_info": {
   "codemirror_mode": {
    "name": "ipython",
    "version": 3
   },
   "file_extension": ".py",
   "mimetype": "text/x-python",
   "name": "python",
   "nbconvert_exporter": "python",
   "pygments_lexer": "ipython3",
   "version": "3.10.10"
  },
  "orig_nbformat": 4
 },
 "nbformat": 4,
 "nbformat_minor": 2
}
