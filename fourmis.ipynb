{
 "cells": [
  {
   "cell_type": "code",
   "execution_count": null,
   "metadata": {},
   "outputs": [],
   "source": [
    "from random import randint, shuffle\n",
    "import numpy as np"
   ]
  },
  {
   "attachments": {},
   "cell_type": "markdown",
   "metadata": {},
   "source": [
    "# Matrice d'adjacence"
   ]
  },
  {
   "cell_type": "code",
   "execution_count": 1,
   "metadata": {},
   "outputs": [],
   "source": [
    "# Génération de la matrice adjacence à partir d'un fichier\n",
    "def load_matrix():\n",
    "    mat = []\n",
    "    with open('mat_adjacence', 'r') as file:   \n",
    "        for l in file.readlines():  \n",
    "            val = [int(x) for x in l.split()]\n",
    "            mat.append(val)            \n",
    "    return mat\n",
    "\n",
    "def create_matrix(n_ville):\n",
    "    mat = np.zeros((n_ville, n_ville))\n",
    "    \n",
    "    for i in range(n_ville):\n",
    "        for j in range(i, n_ville):\n",
    "            if i == j:\n",
    "                continue\n",
    "            cout = randint(0, 10)\n",
    "            mat[i][j] = cout\n",
    "            mat[j][i] = cout\n",
    "\n",
    "    return mat\n",
    " "
   ]
  },
  {
   "attachments": {},
   "cell_type": "markdown",
   "metadata": {},
   "source": [
    "Initialisation de la population"
   ]
  },
  {
   "cell_type": "code",
   "execution_count": null,
   "metadata": {},
   "outputs": [],
   "source": [
    "def population_init(mat, size):\n",
    "    population = []\n",
    "    \n",
    "    for _ in range(0, size):\n",
    "        circuit = list(range(0, len(mat[0])))\n",
    "        shuffle(circuit) # circuit random\n",
    "        population.append([circuit,5])\n",
    "        \n",
    "    return population"
   ]
  }
 ],
 "metadata": {
  "kernelspec": {
   "display_name": "Python 3",
   "language": "python",
   "name": "python3"
  },
  "language_info": {
   "codemirror_mode": {
    "name": "ipython",
    "version": 3
   },
   "file_extension": ".py",
   "mimetype": "text/x-python",
   "name": "python",
   "nbconvert_exporter": "python",
   "pygments_lexer": "ipython3",
   "version": "3.10.10"
  },
  "orig_nbformat": 4
 },
 "nbformat": 4,
 "nbformat_minor": 2
}
