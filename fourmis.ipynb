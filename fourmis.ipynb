{
 "cells": [
  {
   "cell_type": "code",
   "execution_count": 1,
   "metadata": {},
   "outputs": [
    {
     "ename": "",
     "evalue": "",
     "output_type": "error",
     "traceback": [
      "\u001b[1;31mThe Kernel crashed while executing code in the the current cell or a previous cell. Please review the code in the cell(s) to identify a possible cause of the failure. Click <a href='https://aka.ms/vscodeJupyterKernelCrash'>here</a> for more info. View Jupyter <a href='command:jupyter.viewOutput'>log</a> for further details."
     ]
    }
   ],
   "source": [
    "from random import randint, shuffle\n",
    "import numpy as np"
   ]
  },
  {
   "attachments": {},
   "cell_type": "markdown",
   "metadata": {},
   "source": [
    "# Matrice d'adjacence"
   ]
  },
  {
   "cell_type": "code",
   "execution_count": 1,
   "metadata": {},
   "outputs": [],
   "source": [
    "# Génération de la matrice adjacence à partir d'un fichier\n",
    "def load_matrix():\n",
    "    mat = []\n",
    "    with open('mat_adjacence', 'r') as file:   \n",
    "        for l in file.readlines():  \n",
    "            val = [int(x) for x in l.split()]\n",
    "            mat.append(val)            \n",
    "    return mat\n",
    "\n",
    "# Créer une matrice d'adjacence dont le cout du circuit Hamiltonien optimal est celui de la périphérie  \n",
    "def create_matrix(n_ville):\n",
    "    mat = np.zeros((n_ville, n_ville))\n",
    "    \n",
    "    for i in range(n_ville):\n",
    "        for j in range(i, n_ville):\n",
    "            cout = randint(1, 10)\n",
    "            if i == j:\n",
    "                cout = 0\n",
    "            k = i-1 if i-1 > 0 else n_ville\n",
    "            if (i+1) % n_ville == j or k == j:\n",
    "                cout = 1\n",
    "                 \n",
    "            mat[i][j] = cout\n",
    "            mat[j][i] = cout\n",
    "\n",
    "    return mat\n",
    " "
   ]
  },
  {
   "attachments": {},
   "cell_type": "markdown",
   "metadata": {},
   "source": [
    "Initialisation de la population"
   ]
  },
  {
   "cell_type": "code",
   "execution_count": null,
   "metadata": {},
   "outputs": [],
   "source": [
    "def population_init(mat, size):\n",
    "    population = []\n",
    "    \n",
    "    for _ in range(0, size):\n",
    "        circuit = list(range(0, len(mat[0])))\n",
    "        shuffle(circuit) # circuit random\n",
    "        population.append([circuit,5])\n",
    "        \n",
    "    return population"
   ]
  }
 ],
 "metadata": {
  "kernelspec": {
   "display_name": "Python 3",
   "language": "python",
   "name": "python3"
  },
  "language_info": {
   "codemirror_mode": {
    "name": "ipython",
    "version": 3
   },
   "file_extension": ".py",
   "mimetype": "text/x-python",
   "name": "python",
   "nbconvert_exporter": "python",
   "pygments_lexer": "ipython3",
   "version": "3.10.10"
  },
  "orig_nbformat": 4
 },
 "nbformat": 4,
 "nbformat_minor": 2
}
