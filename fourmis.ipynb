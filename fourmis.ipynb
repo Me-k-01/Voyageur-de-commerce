{
 "cells": [
  {
   "cell_type": "code",
   "execution_count": 1,
   "metadata": {},
   "outputs": [
    {
     "ename": "",
     "evalue": "",
     "output_type": "error",
     "traceback": [
      "\u001b[1;31mThe Kernel crashed while executing code in the the current cell or a previous cell. Please review the code in the cell(s) to identify a possible cause of the failure. Click <a href='https://aka.ms/vscodeJupyterKernelCrash'>here</a> for more info. View Jupyter <a href='command:jupyter.viewOutput'>log</a> for further details."
     ]
    }
   ],
   "source": [
    "from random import randint, shuffle\n",
    "import numpy as np"
   ]
  },
  {
   "attachments": {},
   "cell_type": "markdown",
   "metadata": {},
   "source": [
    "# Matrice d'adjacence"
   ]
  },
  {
   "cell_type": "code",
   "execution_count": 1,
   "metadata": {},
   "outputs": [],
   "source": [
    "# Génération de la matrice adjacence à partir d'un fichier\n",
    "def load_matrix():\n",
    "    mat = []\n",
    "    with open('mat_adjacence', 'r') as file:   \n",
    "        for l in file.readlines():  \n",
    "            val = [int(x) for x in l.split()]\n",
    "            mat.append(val)            \n",
    "    return mat\n",
    "\n",
    "# Créer une matrice d'adjacence dont le cout du circuit Hamiltonien optimal est celui de la périphérie  \n",
    "def create_matrix(n_ville):\n",
    "    mat = np.zeros((n_ville, n_ville))\n",
    "    \n",
    "    for i in range(n_ville):\n",
    "        for j in range(i, n_ville):\n",
    "            cout = randint(1, 10)\n",
    "            if i == j:\n",
    "                cout = 0\n",
    "            k = i-1 if i-1 > 0 else n_ville\n",
    "            if (i+1) % n_ville == j or k == j:\n",
    "                cout = 1\n",
    "                 \n",
    "            mat[i][j] = cout\n",
    "            mat[j][i] = cout\n",
    "\n",
    "    return mat\n",
    " "
   ]
  },
  {
   "attachments": {},
   "cell_type": "markdown",
   "metadata": {},
   "source": [
    "Initialisation de la population"
   ]
  },
  {
   "cell_type": "code",
   "execution_count": null,
   "metadata": {},
   "outputs": [],
   "source": [
    "def population_init(nb_ville, size):\n",
    "    population = []\n",
    "    \n",
    "    for _ in range(size):\n",
    "        circuit = list(range(nb_ville))\n",
    "        shuffle(circuit) # circuit random\n",
    "        population.append([circuit, 5])\n",
    "        \n",
    "    return population\n",
    "\n"
   ]
  },
  {
   "cell_type": "code",
   "execution_count": null,
   "metadata": {},
   "outputs": [],
   "source": [
    "\n",
    "def empty_mat(width):\n",
    "    return [[0]*width for _ in range(width)]\n",
    "\n",
    "class Agent:\n",
    "    def __init__(self, starting_node, nodes_to_explore, deposit_Q):\n",
    "        self.starting_node = starting_node # Toute les fourmies commencent au même endroit\n",
    "        self.deposit_Q = deposit_Q\n",
    "        self.reset_exploration(nodes_to_explore)\n",
    "    \n",
    "    def choose_next_location(self, pheromone_mat):\n",
    "        # TODO : On choisit la prochaine ville a explorer aléatoirement selon les phéromones,\n",
    "        # avec une proba non nul qu'on explore une ville jamais exploré par les agents\n",
    "        return self.unexplored[randint(0, len(self.unexplored))]\n",
    "    \n",
    "    def reset_exploration(self, nodes_to_explore):\n",
    "        self.unexplored = list(nodes_to_explore)\n",
    "        self.unexplored.remove(self.starting_node)\n",
    "        self.explored = [self.starting_node]\n",
    "    \n",
    "    def get_travel_length(self, mat_cout):\n",
    "        travel_length = 0\n",
    "        for i in range(1, len(self.explored)):\n",
    "            depart = self.explored(i-1)\n",
    "            arrival = self.explored(i) \n",
    "            \n",
    "            travel_length += mat_cout[depart][arrival]\n",
    "            \n",
    "        return travel_length\n",
    "    \n",
    "    def deposite_pheromone(self, mat_cost, pheromone_mat):\n",
    "        \n",
    "        pheromone_quantity = self.deposit_Q /  self.get_travel_length(mat_cost)\n",
    "        \n",
    "        \n",
    "        for i in range(1, len(self.explored)):\n",
    "            depart = self.explored(i-1)\n",
    "            arrival = self.explored(i) \n",
    "            \n",
    "            # On dépose les phéromones sur les arrettes\n",
    "            pheromone_mat[depart][arrival] += pheromone_quantity\n",
    "    \n",
    "    def advance(self, mat_cost, pheromone_mat): # avance l'agent\n",
    "        \n",
    "        # Si on a atteint toutes les villes \n",
    "        if len(self.unexplored) < 0:\n",
    "            # Une fois la tournée terminé, l'agent dépose les phéromones\n",
    "            self.deposite_pheromone(mat_cost, pheromone_mat)\n",
    "            # On reset les villes explorer et on recommence l'exploration \n",
    "            self.reset_exploration(self.explored)\n",
    "         \n",
    "        # On choisit la prochaine destination à explorer\n",
    "        curr_node = self.explored.pop(randint(0, len(self.unexplored)))\n",
    "        self.explored.append(curr_node)\n",
    "        \n",
    "        \n",
    "def evaporation(pheromone_mat, disipation_rate):\n",
    "    for i in range(pheromone_mat):\n",
    "        for j in range(pheromone_mat[0]):\n",
    "            if pheromone_mat[i][j] > 0:\n",
    "                pheromone_mat[i][j] -= disipation_rate"
   ]
  },
  {
   "cell_type": "code",
   "execution_count": null,
   "metadata": {},
   "outputs": [],
   "source": [
    "def main():\n",
    "    size = 5\n",
    "    epoch_max = 100\n",
    "    agents_number = 5\n",
    "    starting_node = 0\n",
    "    disipation_rate = 1\n",
    "    \n",
    "    mat_cost = create_matrix(size)\n",
    "    pheromone_mat = empty_mat(size)\n",
    "    agents = [Agent(starting_node, list(range(size))) for _ in range(agents_number)]\n",
    "    \n",
    "    disipation_rate = 1\n",
    "    \n",
    "    for i in range(epoch_max):\n",
    "        # On avance chaque agents dans leurs exploration\n",
    "        for agent in agents:\n",
    "            agent.advance(mat_cost, pheromone_mat)\n",
    "\n",
    "        evaporation(pheromone_mat, disipation_rate)"
   ]
  }
 ],
 "metadata": {
  "kernelspec": {
   "display_name": "Python 3",
   "language": "python",
   "name": "python3"
  },
  "language_info": {
   "codemirror_mode": {
    "name": "ipython",
    "version": 3
   },
   "file_extension": ".py",
   "mimetype": "text/x-python",
   "name": "python",
   "nbconvert_exporter": "python",
   "pygments_lexer": "ipython3",
   "version": "3.10.10"
  },
  "orig_nbformat": 4
 },
 "nbformat": 4,
 "nbformat_minor": 2
}
