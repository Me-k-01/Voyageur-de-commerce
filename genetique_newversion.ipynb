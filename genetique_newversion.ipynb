{
 "cells": [
  {
   "cell_type": "code",
   "execution_count": null,
   "metadata": {},
   "outputs": [],
   "source": [
    "import random\n",
    "\n"
   ]
  },
  {
   "cell_type": "code",
   "execution_count": 34,
   "metadata": {},
   "outputs": [],
   "source": [
    "#generation matrice adjacence a partit d'un fichier\n",
    "def creer_matrice():\n",
    "    mat=[]\n",
    "\n",
    "    try:\n",
    "        file=open('mat_adjacence','r')\n",
    "\n",
    "    except ValueError:\n",
    "        print(\"Oops!  fichier non ouvert\")\n",
    "    #print(file.read)\n",
    "\n",
    "    while 1:\n",
    "        une_ligne = file.readline() #renvoie une ligne avec le \\n à la fin\n",
    "        if not une_ligne:\n",
    "            break\n",
    "        val=[int(x) for x in une_ligne.split()]\n",
    "        mat.append(val)\n",
    "    #print(mat)\n",
    "    '''\n",
    "    for l in range(len(mat)):\n",
    "        for c in range(len(mat[l])):\n",
    "            if(mat[l][c]==1):\n",
    "                print(mat[l][c],\"->\",l,\" \",c)\n",
    "    '''\n"
   ]
  },
  {
   "cell_type": "code",
   "execution_count": 35,
   "metadata": {},
   "outputs": [],
   "source": [
    "#initialisation\n",
    "def init():\n",
    "    for i in range(0,5):\n",
    "        liste_taille=list(range(0,len(mat[0])))\n",
    "        random.shuffle(liste_taille)\n",
    "        population.append(liste_taille)\n",
    "    print(population)"
   ]
  }
 ],
 "metadata": {
  "kernelspec": {
   "display_name": "Python 3",
   "language": "python",
   "name": "python3"
  },
  "language_info": {
   "codemirror_mode": {
    "name": "ipython",
    "version": 3
   },
   "file_extension": ".py",
   "mimetype": "text/x-python",
   "name": "python",
   "nbconvert_exporter": "python",
   "pygments_lexer": "ipython3",
   "version": "3.8.10"
  },
  "orig_nbformat": 4,
  "vscode": {
   "interpreter": {
    "hash": "916dbcbb3f70747c44a77c7bcd40155683ae19c65e1c03b4aa3499c5328201f1"
   }
  }
 },
 "nbformat": 4,
 "nbformat_minor": 2
}
