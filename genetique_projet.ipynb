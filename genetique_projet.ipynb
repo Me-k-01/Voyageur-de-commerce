{
 "cells": [
  {
   "cell_type": "code",
   "execution_count": 71,
   "metadata": {},
   "outputs": [
    {
     "name": "stdout",
     "output_type": "stream",
     "text": [
      "Chemin min:  [2, 99, 3, 99]  pour un cout de:  0\n",
      "Fin\n"
     ]
    }
   ],
   "source": [
    "import random\n",
    "mat=[]\n",
    "population=[]\n",
    "\n",
    "algo_genetique(population)"
   ]
  },
  {
   "cell_type": "code",
   "execution_count": 60,
   "metadata": {},
   "outputs": [],
   "source": [
    "#generation matrice adjacence a partit d'un fichier\n",
    "\n",
    "def creer_matrice():\n",
    "    try:\n",
    "        file=open('mat_adjacence','r')\n",
    "    except ValueError:\n",
    "        print(\"Oops!  fichier non ouvert\")\n",
    "    #print(file.read)\n",
    "\n",
    "    while 1:\n",
    "        une_ligne = file.readline() #renvoie une ligne avec le \\n à la fin\n",
    "        if not une_ligne:\n",
    "            break\n",
    "        val=[int(x) for x in une_ligne.split()]\n",
    "        mat.append(val)\n",
    "    #print(mat)\n",
    "    '''\n",
    "    for l in range(len(mat)):\n",
    "        for c in range(len(mat[l])):\n",
    "            if(mat[l][c]==1):\n",
    "                print(mat[l][c],\"->\",l,\" \",c)\n",
    "    '''\n"
   ]
  },
  {
   "cell_type": "code",
   "execution_count": 61,
   "metadata": {},
   "outputs": [],
   "source": [
    "#initialisation\n",
    "\n",
    "#import random\n",
    "#mat=[[0,2,1],[2,0,1],[1,2,0]]\n",
    "#population=[]\n",
    "\n",
    "def init():\n",
    "    for i in range(0,5):\n",
    "        liste_taille=list(range(0,len(mat[0])))\n",
    "        random.shuffle(liste_taille)\n",
    "        population.append([liste_taille,5])\n",
    "    #print(population)\n",
    "#init()"
   ]
  },
  {
   "cell_type": "code",
   "execution_count": null,
   "metadata": {},
   "outputs": [],
   "source": [
    "#mat=[[0,5,2],[4,0,3],[1,5,0]]\n",
    "\n",
    "def fitness(individu):\n",
    "    somme_indiv=0\n",
    "    for i in range(len(individu)):\n",
    "        v_depart=individu[i] \n",
    "        if(i+1==len(individu)):\n",
    "            v_arrive=individu[0]\n",
    "        else:\n",
    "            v_arrive=individu[i+1]\n",
    "\n",
    "        #print(v_depart,\"->\",v_arrive)\n",
    "\n",
    "        for l in range(len(mat)):\n",
    "            if (l==v_depart): \n",
    "                for c in range(len(mat[l])):\n",
    "                    if(c==v_arrive):\n",
    "                        somme_indiv=somme_indiv+mat[l][c]\n",
    "                        #print(mat[l][c],\" donne une dist de:\",somme_indiv)\n",
    "    return somme_indiv\n",
    "\n",
    "#fitness([1,0,2])"
   ]
  },
  {
   "cell_type": "code",
   "execution_count": null,
   "metadata": {},
   "outputs": [],
   "source": [
    "def mort(pop):\n",
    "    popula=[]\n",
    "    for i in range(len(pop)):\n",
    "        pop[i][1]=pop[i][1]-1\n",
    "        if(pop[i][1]!=0):\n",
    "            popula.append(pop[i])\n",
    "    return popula"
   ]
  },
  {
   "cell_type": "code",
   "execution_count": null,
   "metadata": {},
   "outputs": [],
   "source": [
    "def croisement(pop):\n",
    "    for i in range(0,6):\n",
    "        #selectiond des parents\n",
    "        parent1=random.randint(0, len(pop)-1)\n",
    "        parent2=random.randint(0, len(pop)-1)\n",
    "\n",
    "        enfant1=pop[parent1][0]\n",
    "        enfant2=pop[parent2][0]\n",
    "\n",
    "        nb_modif=random.randint(0, len(enfant1)-1)\n",
    "        indice_retire=[]\n",
    "        for i in range(0,nb_modif):\n",
    "            indice=random.randint(0,nb_modif)\n",
    "            while(indice in indice_retire):\n",
    "                indice=random.randint(0,nb_modif)\n",
    "            indice_retire.append(indice)\n",
    "\n",
    "        for i in range(len(indice_retire)):\n",
    "            enfant1[indice_retire[i]]=99\n",
    "            enfant2[indice_retire[i]]=99\n",
    "        \n",
    "        for i in range(len(enfant1)):\n",
    "            if(enfant1[i]==99):\n",
    "                if(pop[parent2][0][i] not in enfant1):\n",
    "                    enfant1[i]=pop[parent2][0][i]\n",
    "                else:\n",
    "                    for x in pop[parent2][0]:\n",
    "                        if x not in enfant1:\n",
    "                            enfant1[i]=x\n",
    "            if(enfant2[i]==99):\n",
    "                if(pop[parent1][0][i] not in enfant1):\n",
    "                    enfant2[i]=pop[parent1][0][i]\n",
    "                else:\n",
    "                    for x in pop[parent1][0]:\n",
    "                        if x not in enfant2:\n",
    "                            enfant2[i]=x"
   ]
  },
  {
   "cell_type": "code",
   "execution_count": 48,
   "metadata": {},
   "outputs": [],
   "source": [
    "#import random\n",
    "\n",
    "def mutation(pop):\n",
    "    mut=[]\n",
    "    while(len(mut)!=3):\n",
    "        pos=random.randint(0, len(pop)-1)\n",
    "        mut.append(pos)\n",
    "    for i in mut:\n",
    "        perm1=random.randint(0, len(pop[i][0])-1)\n",
    "        perm2=random.randint(0, len(pop[i][0])-1)\n",
    "        #print(pop[i],\"->\",perm1,\"   \",perm2)\n",
    "        val1=pop[i][0][perm1]\n",
    "        val2=pop[i][0][perm2]\n",
    "        temp=val2\n",
    "        pop[i][0][perm2]=val1\n",
    "        pop[i][0][perm1]=temp\n",
    "        #temp=pop[i][0][perm2]\n",
    "        #perm2=pop[i][0][perm1]\n",
    "        #perm1=temp\n",
    "#pop=[[[0,1,2,3],5],[[4,5,6,7],5],[[8,9,1,2],5],[[3,4,5,6],5]]\n",
    "#mutation(pop)\n",
    "#print(pop)"
   ]
  },
  {
   "cell_type": "code",
   "execution_count": 56,
   "metadata": {},
   "outputs": [],
   "source": [
    "def verif(pop,valeur,chemin):\n",
    "    for i in range(len(pop)):\n",
    "        if(fitness(pop[i][0])<valeur):\n",
    "            valeur=fitness(pop[i][0])\n",
    "            chemin=pop[i][0]\n",
    "    return (valeur,chemin)\n",
    "#mat=[[0,3,4,2],[5,0,6,1],[4,6,0,3],[2,1,3,0]]\n",
    "#pop=[[[0,1,2,3],5],[[3,1,2,0],5],[[0,3,1,2],5],[[3,2,1,0],5]]\n",
    "#val,chemin=verif(pop,999)\n",
    "#print(val,\"  \",chemin)"
   ]
  },
  {
   "cell_type": "code",
   "execution_count": 58,
   "metadata": {},
   "outputs": [],
   "source": [
    "def algo_genetique(population):\n",
    "    val_min=9999\n",
    "    chemin_min=[]\n",
    "    time=0\n",
    "    creer_matrice()\n",
    "    init()\n",
    "    val,chemin_min=verif(population,val_min,chemin_min)\n",
    "\n",
    "    while(time<50 and len(population)>=2):\n",
    "        time+=1\n",
    "        croisement(population)\n",
    "        mutation(population)\n",
    "        val_min,chemin_min=verif(population,val_min,chemin_min)\n",
    "        population=mort(population)\n",
    "    print(\"Chemin min: \",chemin_min,\" pour un cout de: \",val_min)\n",
    "    print(\"Fin\")"
   ]
  }
 ],
 "metadata": {
  "kernelspec": {
   "display_name": "Python 3",
   "language": "python",
   "name": "python3"
  },
  "language_info": {
   "codemirror_mode": {
    "name": "ipython",
    "version": 3
   },
   "file_extension": ".py",
   "mimetype": "text/x-python",
   "name": "python",
   "nbconvert_exporter": "python",
   "pygments_lexer": "ipython3",
   "version": "3.11.0"
  },
  "orig_nbformat": 4,
  "vscode": {
   "interpreter": {
    "hash": "c261aea317cc0286b3b3261fbba9abdec21eaa57589985bb7a274bf54d6cc0a7"
   }
  }
 },
 "nbformat": 4,
 "nbformat_minor": 2
}
